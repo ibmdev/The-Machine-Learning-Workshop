{
 "cells": [
  {
   "cell_type": "code",
   "execution_count": 1,
   "metadata": {},
   "outputs": [
    {
     "name": "stdout",
     "output_type": "stream",
     "text": [
      "Version Numpy : 1.19.4\n",
      "Version Pandas : 1.1.4\n",
      "[{'Team': 'Lille', 'M': 15, 'W': 9, 'D': 5, 'L': 1, 'GF': 28, 'GA': 10, 'PTS': 32, 'xG': 22.476732, 'xG_diff': -5.523268, 'npxG': 20.956552, 'xGA': 10.713264, 'xGA_diff': 0.7132640000000002, 'npxGA': 9.953169, 'xPTS': 27.901799999999998, 'xPTS_diff': -4.0982}, {'Team': 'Paris Saint Germain', 'M': 15, 'W': 10, 'D': 1, 'L': 4, 'GF': 35, 'GA': 10, 'PTS': 31, 'xG': 36.914476, 'xG_diff': 1.9144759999999987, 'npxG': 33.114066, 'xGA': 17.937482000000003, 'xGA_diff': 7.937481999999999, 'npxGA': 16.4173, 'xPTS': 30.5635, 'xPTS_diff': -0.43650000000000166}, {'Team': 'Lyon', 'M': 15, 'W': 8, 'D': 6, 'L': 1, 'GF': 27, 'GA': 13, 'PTS': 30, 'xG': 33.881451, 'xG_diff': 6.881451, 'npxG': 29.320881, 'xGA': 13.440693999999999, 'xGA_diff': 0.44069400000000036, 'npxGA': 9.640214999999998, 'xPTS': 33.2438, 'xPTS_diff': 3.2438000000000007}, {'Team': 'Marseille', 'M': 13, 'W': 8, 'D': 3, 'L': 2, 'GF': 20, 'GA': 12, 'PTS': 27, 'xG': 16.171563400000004, 'xG_diff': -3.8284366, 'npxG': 14.6515044, 'xGA': 16.38436, 'xGA_diff': 4.384359999999999, 'npxGA': 14.864168000000003, 'xPTS': 17.657100000000003, 'xPTS_diff': -9.342899999999998}, {'Team': 'Montpellier', 'M': 15, 'W': 8, 'D': 2, 'L': 5, 'GF': 25, 'GA': 23, 'PTS': 26, 'xG': 20.282773000000002, 'xG_diff': -4.717227000000001, 'npxG': 18.002549, 'xGA': 23.288203, 'xGA_diff': 0.288203, 'npxGA': 17.207448000000003, 'xPTS': 20.519099999999998, 'xPTS_diff': -5.4809}, {'Team': 'Rennes', 'M': 15, 'W': 7, 'D': 4, 'L': 4, 'GF': 22, 'GA': 19, 'PTS': 25, 'xG': 20.621122999999994, 'xG_diff': -1.3788769999999992, 'npxG': 20.621122999999994, 'xGA': 12.422104000000001, 'xGA_diff': -6.577896, 'npxGA': 12.422104000000001, 'xPTS': 26.574200000000005, 'xPTS_diff': 1.5742000000000003}, {'Team': 'Lens', 'M': 14, 'W': 7, 'D': 3, 'L': 4, 'GF': 24, 'GA': 21, 'PTS': 24, 'xG': 22.378029, 'xG_diff': -1.6219710000000005, 'npxG': 18.577611, 'xGA': 14.716020299999998, 'xGA_diff': -6.2839797000000015, 'npxGA': 13.195895299999998, 'xPTS': 25.206800000000005, 'xPTS_diff': 1.2067999999999999}, {'Team': 'Angers', 'M': 15, 'W': 7, 'D': 2, 'L': 6, 'GF': 20, 'GA': 24, 'PTS': 23, 'xG': 18.703514000000002, 'xG_diff': -1.2964859999999998, 'npxG': 16.423293, 'xGA': 21.899698, 'xGA_diff': -2.100302000000001, 'npxGA': 20.379508, 'xPTS': 18.761800000000004, 'xPTS_diff': -4.2382}, {'Team': 'Monaco', 'M': 15, 'W': 7, 'D': 2, 'L': 6, 'GF': 25, 'GA': 23, 'PTS': 23, 'xG': 28.582383, 'xG_diff': 3.582383, 'npxG': 24.781921, 'xGA': 17.196154000000003, 'xGA_diff': -5.803846, 'npxGA': 14.915864000000001, 'xPTS': 26.777399999999997, 'xPTS_diff': 3.7774}, {'Team': 'Brest', 'M': 15, 'W': 7, 'D': 1, 'L': 7, 'GF': 25, 'GA': 27, 'PTS': 22, 'xG': 19.998296999999994, 'xG_diff': -5.001702999999999, 'npxG': 17.718004999999994, 'xGA': 23.500583999999996, 'xGA_diff': -3.499416, 'npxGA': 21.220310999999995, 'xPTS': 18.442399999999996, 'xPTS_diff': -3.5576}, {'Team': 'Nice', 'M': 14, 'W': 6, 'D': 3, 'L': 5, 'GF': 18, 'GA': 16, 'PTS': 21, 'xG': 18.007066000000002, 'xG_diff': 0.007066000000000461, 'npxG': 15.726793, 'xGA': 18.229226999999998, 'xGA_diff': 2.229227, 'npxGA': 15.948937, 'xPTS': 20.1216, 'xPTS_diff': -0.8784000000000003}, {'Team': 'Metz', 'M': 15, 'W': 5, 'D': 5, 'L': 5, 'GF': 17, 'GA': 16, 'PTS': 20, 'xG': 18.249208, 'xG_diff': 1.2492079999999994, 'npxG': 12.928598, 'xGA': 17.571175, 'xGA_diff': 1.5711749999999995, 'npxGA': 15.290962, 'xPTS': 21.261499999999998, 'xPTS_diff': 1.2614999999999998}, {'Team': 'Bordeaux', 'M': 15, 'W': 5, 'D': 4, 'L': 6, 'GF': 15, 'GA': 17, 'PTS': 19, 'xG': 14.441951000000001, 'xG_diff': -0.5580490000000004, 'npxG': 13.681861, 'xGA': 21.809103, 'xGA_diff': 4.809103000000001, 'npxGA': 18.768784000000004, 'xPTS': 17.353099999999998, 'xPTS_diff': -1.6468999999999996}, {'Team': 'Saint-Etienne', 'M': 15, 'W': 4, 'D': 4, 'L': 7, 'GF': 14, 'GA': 21, 'PTS': 16, 'xG': 14.905639299999999, 'xG_diff': 0.9056392999999998, 'npxG': 12.6253583, 'xGA': 19.108096999999997, 'xGA_diff': -1.8919030000000006, 'npxGA': 18.348066999999997, 'xPTS': 18.795, 'xPTS_diff': 2.795}, {'Team': 'Nantes', 'M': 15, 'W': 3, 'D': 5, 'L': 7, 'GF': 17, 'GA': 26, 'PTS': 14, 'xG': 20.161809000000005, 'xG_diff': 3.161809000000001, 'npxG': 16.361467, 'xGA': 25.071828, 'xGA_diff': -0.9281720000000007, 'npxGA': 19.751236, 'xPTS': 18.116899999999998, 'xPTS_diff': 4.1169}, {'Team': 'Strasbourg', 'M': 15, 'W': 4, 'D': 2, 'L': 9, 'GF': 22, 'GA': 26, 'PTS': 14, 'xG': 20.146918999999997, 'xG_diff': -1.8530810000000002, 'npxG': 14.826256, 'xGA': 23.118829400000006, 'xGA_diff': -2.8811706, 'npxGA': 19.318487400000002, 'xPTS': 18.6093, 'xPTS_diff': 4.609300000000001}, {'Team': 'Reims', 'M': 15, 'W': 3, 'D': 4, 'L': 8, 'GF': 20, 'GA': 26, 'PTS': 13, 'xG': 15.550083999999998, 'xG_diff': -4.449916, 'npxG': 12.509711000000001, 'xGA': 28.436224999999997, 'xGA_diff': 2.4362250000000003, 'npxGA': 24.63574, 'xPTS': 11.678199999999999, 'xPTS_diff': -1.3217999999999994}, {'Team': 'Lorient', 'M': 15, 'W': 3, 'D': 2, 'L': 10, 'GF': 15, 'GA': 26, 'PTS': 11, 'xG': 18.705895999999996, 'xG_diff': 3.705896, 'npxG': 14.90555, 'xGA': 20.456166, 'xGA_diff': -5.543834, 'npxGA': 17.41592, 'xPTS': 18.8388, 'xPTS_diff': 7.838799999999999}, {'Team': 'Nimes', 'M': 15, 'W': 3, 'D': 2, 'L': 10, 'GF': 11, 'GA': 29, 'PTS': 11, 'xG': 12.109889, 'xG_diff': 1.1098890000000001, 'npxG': 11.349794000000001, 'xGA': 28.808627, 'xGA_diff': -0.19137299999999935, 'npxGA': 25.768387, 'xPTS': 10.9876, 'xPTS_diff': -0.012400000000000078}, {'Team': 'Dijon', 'M': 15, 'W': 1, 'D': 6, 'L': 8, 'GF': 9, 'GA': 24, 'PTS': 9, 'xG': 12.078971000000001, 'xG_diff': 3.0789709999999997, 'npxG': 11.318881000000001, 'xGA': 30.259933, 'xGA_diff': 6.259933000000001, 'npxGA': 24.939272, 'xPTS': 8.766100000000002, 'xPTS_diff': -0.23389999999999989}]\n"
     ]
    }
   ],
   "source": [
    "import numpy as np\n",
    "import pandas as pd\n",
    "from lib import understat_factory\n",
    "from constants import understat_constants\n",
    "print('Version Numpy : ' + np.__version__)\n",
    "print('Version Pandas : ' + pd.__version__)\n",
    "leagueInfos = {}\n",
    "filter = {'type': ''}\n",
    "understatService = understat_factory.UnderStatService()\n",
    "leagueInfos = understatService.getInfosByLeague(understat_constants.leagues[4], filter)\n",
    "print(leagueInfos['teams'])\n",
    "# Manipulate data to make it as in the original source\n",
    "\n"
   ]
  },
  {
   "cell_type": "code",
   "execution_count": null,
   "metadata": {},
   "outputs": [],
   "source": []
  },
  {
   "cell_type": "code",
   "execution_count": null,
   "metadata": {},
   "outputs": [],
   "source": []
  },
  {
   "cell_type": "code",
   "execution_count": null,
   "metadata": {},
   "outputs": [],
   "source": []
  },
  {
   "cell_type": "code",
   "execution_count": null,
   "metadata": {},
   "outputs": [],
   "source": []
  }
 ],
 "metadata": {
  "kernelspec": {
   "display_name": "Python 3",
   "language": "python",
   "name": "python3"
  },
  "language_info": {
   "codemirror_mode": {
    "name": "ipython",
    "version": 3
   },
   "file_extension": ".py",
   "mimetype": "text/x-python",
   "name": "python",
   "nbconvert_exporter": "python",
   "pygments_lexer": "ipython3",
   "version": "3.9.0"
  }
 },
 "nbformat": 4,
 "nbformat_minor": 4
}
