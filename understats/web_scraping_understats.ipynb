{
 "cells": [
  {
   "cell_type": "code",
   "execution_count": 1,
   "metadata": {},
   "outputs": [],
   "source": [
    "import numpy as np\n",
    "import pandas as pd\n",
    "from lib import understat_factory\n",
    "from constants import understat_constants\n",
    "# leagueInfos = {}\n",
    "# filter = {'type': ''}\n",
    "understatService = understat_factory.UnderStatService()\n",
    "# leagueInfos = understatService.getInfosByLeague(understat_constants.leagues[4], filter)\n",
    "# Classement des équipes\n",
    "# teams = leagueInfos['teams']\n",
    "# Statistiques des joueurs\n",
    "# players = leagueInfos['players']\n",
    "# Calendrier et résultats\n",
    "# dates = leagueInfos['dates']\n",
    "globalInfos = understatService.getBettingData()\n",
    "# teamsName = understatService.getTeamsName(teams)\n",
    "# players_stats_filter = {'league':'Ligue_1', 'team': 'Nice', 'season':'2020', 'n_last_matches': '4', 'positions[]': 'GK', 'date_start':'2020-09-30 23:00:00', 'date_end':'2020-12-01 23:00:00'}\n",
    "# players_stats_filter = {'team': 'Lyon', 'season':'2020', 'n_last_matches': '4', 'positions[]': 'F', 'date_start':'2020-09-30 23:00:00', 'date_end':'2020-12-01 23:00:00'}\n",
    "# understatService.getPlayersStats(players_stats_filter)\n",
    "# print(players)\n",
    "# for name in teamsName:\n",
    "  #  teamStats = understatService.getInfosByTeam(name)\n",
    "  #  datesData = teamStats['datesData']\n",
    "  #  playersData = teamStats['playersData']\n",
    "    # print('Statistiques des joueurs de ' + name + ' ==> ' + str(playersData))\n",
    "# playerStats = understatService.getPlayerStats('3423')\n",
    "# print(playerStats['groupsData']['season'])\n",
    "# print(playerStats)"
   ]
  },
  {
   "cell_type": "code",
   "execution_count": null,
   "metadata": {},
   "outputs": [],
   "source": []
  },
  {
   "cell_type": "code",
   "execution_count": null,
   "metadata": {},
   "outputs": [],
   "source": []
  },
  {
   "cell_type": "code",
   "execution_count": null,
   "metadata": {},
   "outputs": [],
   "source": []
  },
  {
   "cell_type": "code",
   "execution_count": null,
   "metadata": {},
   "outputs": [],
   "source": []
  }
 ],
 "metadata": {
  "kernelspec": {
   "display_name": "Python 3",
   "language": "python",
   "name": "python3"
  },
  "language_info": {
   "codemirror_mode": {
    "name": "ipython",
    "version": 3
   },
   "file_extension": ".py",
   "mimetype": "text/x-python",
   "name": "python",
   "nbconvert_exporter": "python",
   "pygments_lexer": "ipython3",
   "version": "3.9.0"
  }
 },
 "nbformat": 4,
 "nbformat_minor": 4
}
