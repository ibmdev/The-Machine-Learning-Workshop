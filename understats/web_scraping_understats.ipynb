{
 "cells": [
  {
   "cell_type": "code",
   "execution_count": 1,
   "metadata": {},
   "outputs": [
    {
     "name": "stdout",
     "output_type": "stream",
     "text": [
      "Version Numpy : 1.19.4\n",
      "Version Pandas : 1.1.4\n",
      "Version Requests : 2.25.0\n",
      "{1: 'Lille', 2: 'Paris Saint Germain', 3: 'Rennes', 4: 'Marseille', 5: 'Montpellier', 6: 'Angers', 7: 'Nantes', 8: 'Nice', 9: 'Monaco', 10: 'Saint-Etienne', 11: 'Bordeaux', 12: 'Reims', 13: 'Lyon', 14: 'Lorient', 15: 'Metz', 16: 'Dijon', 17: 'Lens', 18: 'Strasbourg', 19: 'Nimes', 20: 'Brest'}\n"
     ]
    }
   ],
   "source": [
    "import numpy as np\n",
    "import pandas as pd\n",
    "import requests\n",
    "import json\n",
    "import ast\n",
    "from bs4 import BeautifulSoup\n",
    "from lib import Helper\n",
    "print('Version Numpy : ' + np.__version__)\n",
    "print('Version Pandas : ' + pd.__version__)\n",
    "print('Version Requests : ' + requests.__version__)\n",
    "# Création des urls pour toutes les saisons de toutes les leagues\n",
    "base_url = 'https://understat.com/league'\n",
    "# Liste des leagues : Espagne, Angleterre, Allemagne, Italie, France et Russie\n",
    "leagues = ['La_liga', 'EPL', 'Bundesliga', 'Serie_A', 'Ligue_1', 'RFPL']\n",
    "# Liste des saisons\n",
    "seasons = ['2014', '2015', '2016', '2017', '2018', '2019', '2020']\n",
    "# Lecture du flux JSON pour liga saison 2020\n",
    "url = base_url+'/'+leagues[4]\n",
    "res = requests.get(url)\n",
    "soup = BeautifulSoup(res.content, \"lxml\")\n",
    "# Recherche de tous les scripts de la page\n",
    "teams_data = ''\n",
    "players_data = ''\n",
    "dates_data = ''\n",
    "teamsName = {}\n",
    "helper = Helper.Utils()\n",
    "scripts = soup.find_all('script')\n",
    "# Affichage de la liste des scripts\n",
    "for script in scripts:\n",
    "    if 'teamsData' in script.text:\n",
    "        teams_data = helper.generateData(script.text)\n",
    "    if 'playersData' in script.text:\n",
    "        players_data = helper.generateData(script.text)\n",
    "    if 'datesData' in script.text:\n",
    "        dates_data = helper.generateData(script.text)\n",
    "\n",
    "teamsName = helper.getAllTeamsName(ast.literal_eval(teams_data))\n",
    "# print(teams_data)\n",
    "# print(players_data)\n",
    "# print(dates_data)\n",
    "print(teamsName)"
   ]
  },
  {
   "cell_type": "code",
   "execution_count": null,
   "metadata": {},
   "outputs": [],
   "source": []
  },
  {
   "cell_type": "code",
   "execution_count": null,
   "metadata": {},
   "outputs": [],
   "source": []
  },
  {
   "cell_type": "code",
   "execution_count": null,
   "metadata": {},
   "outputs": [],
   "source": []
  },
  {
   "cell_type": "code",
   "execution_count": null,
   "metadata": {},
   "outputs": [],
   "source": []
  }
 ],
 "metadata": {
  "kernelspec": {
   "display_name": "Python 3",
   "language": "python",
   "name": "python3"
  },
  "language_info": {
   "codemirror_mode": {
    "name": "ipython",
    "version": 3
   },
   "file_extension": ".py",
   "mimetype": "text/x-python",
   "name": "python",
   "nbconvert_exporter": "python",
   "pygments_lexer": "ipython3",
   "version": "3.9.0"
  }
 },
 "nbformat": 4,
 "nbformat_minor": 4
}
