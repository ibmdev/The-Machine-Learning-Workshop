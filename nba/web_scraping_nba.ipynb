{
 "cells": [
  {
   "cell_type": "code",
   "execution_count": 1,
   "metadata": {},
   "outputs": [
    {
     "name": "stdout",
     "output_type": "stream",
     "text": [
      "528\n",
      "528\n"
     ]
    }
   ],
   "source": [
    "import numpy as np\n",
    "import pandas as pd\n",
    "import json\n",
    "from urllib.request import urlopen\n",
    "from bs4 import BeautifulSoup\n",
    "from lib import nba_factory\n",
    "nbaService = nba_factory.NbaService()\n",
    "year = 2021\n",
    "url = \"https://www.basketball-reference.com/leagues/NBA_{}_per_game.html\".format(year)\n",
    "player_stats = nbaService.getStats(url)\n",
    "teamsName = nbaService.getTeamsName(player_stats)\n",
    "# Per Game \n",
    "allTeamsPerGame = nbaService.getAllStats(teamsName,player_stats)\n",
    "with open('nba_per_game.json', 'w') as outfile:\n",
    "    json.dump(allTeamsPerGame, outfile)\n",
    "\n",
    "# Total\n",
    "url = \"https://www.basketball-reference.com/leagues/NBA_{}_totals.html\".format(year)\n",
    "player_stats_total = nbaService.getStats(url)\n",
    "allTeamsTotal = nbaService.getAllStats(teamsName,player_stats_total)\n",
    "with open('nba_total.json', 'w') as outfile:\n",
    "    json.dump(allTeamsTotal, outfile)\n",
    "\n",
    "# Shooting\n",
    "# Advanced\n",
    "    \n"
   ]
  },
  {
   "cell_type": "code",
   "execution_count": null,
   "metadata": {},
   "outputs": [],
   "source": []
  }
 ],
 "metadata": {
  "kernelspec": {
   "display_name": "Python 3",
   "language": "python",
   "name": "python3"
  },
  "language_info": {
   "codemirror_mode": {
    "name": "ipython",
    "version": 3
   },
   "file_extension": ".py",
   "mimetype": "text/x-python",
   "name": "python",
   "nbconvert_exporter": "python",
   "pygments_lexer": "ipython3",
   "version": "3.9.0"
  }
 },
 "nbformat": 4,
 "nbformat_minor": 4
}
