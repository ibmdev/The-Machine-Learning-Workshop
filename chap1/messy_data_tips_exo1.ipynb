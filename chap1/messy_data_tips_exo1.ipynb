{
 "cells": [
  {
   "cell_type": "code",
   "execution_count": 8,
   "metadata": {},
   "outputs": [
    {
     "name": "stdout",
     "output_type": "stream",
     "text": [
      "Version Seaborn : 0.11.0\n",
      "Version Numpy : 1.19.4\n",
      "Version Pandas : 1.1.4\n",
      "Nombre observations dont il manque une valeur pour la feature size  : 16\n",
      "Calcul de la moyenne des valeurs disponible pour la feature size : 3\n"
     ]
    },
    {
     "data": {
      "image/png": "[encoded data removed]",
      "text/plain": [
       "<Figure size 432x288 with 1 Axes>"
      ]
     },
     "metadata": {
      "needs_background": "light"
     },
     "output_type": "display_data"
    },
    {
     "name": "stdout",
     "output_type": "stream",
     "text": [
      "Déviation Standard de la feature size : 0.9259302432538921\n",
      "valeur minimale : -0.19172515599118478\n",
      "valeur maximale : 5.3638563035321685\n"
     ]
    },
    {
     "data": {
      "text/plain": [
       "4"
      ]
     },
     "execution_count": 8,
     "metadata": {},
     "output_type": "execute_result"
    }
   ],
   "source": [
    "import seaborn as sns\n",
    "import numpy as np\n",
    "import matplotlib.pyplot as plt\n",
    "import pandas as pds\n",
    "print('Version Seaborn : ' + sns.__version__)\n",
    "print('Version Numpy : ' + np.__version__)\n",
    "print('Version Pandas : ' + pds.__version__)\n",
    "tips = sns.load_dataset('tips') # Chargement des données tips\n",
    "size = tips[\"size\"] # Extraction de la feature size du dataset tips\n",
    "size.loc[:15] = np.nan # Conversion des 16 premières valeurs de size en valeurs manquantes (missing values)\n",
    "occurence = size.isnull().sum() # Calcul du nombre d'observations dont il manque une valeur pour la feature size\n",
    "print('Nombre observations dont il manque une valeur pour la feature size  : ' + str(occurence))\n",
    "meanSize = size.mean() # Calcul de la moyenne des valeurs disponible pour la feature size\n",
    "meanSize = round(meanSize)\n",
    "print('Calcul de la moyenne des valeurs disponible pour la feature size : ' + str(meanSize))\n",
    "size.fillna(meanSize, inplace=True) # Mean Imputation : Remplacement des valeurs manquantes par la moyenne de la feature size\n",
    "plt.hist(size) # Affichage histogramme montrant la répartition/distribution de la feature size\n",
    "plt.show()\n",
    "dvstd = np.std(size) # Calcul de la déviation standard : nombre qui décrit comment les données de la feature size se répartissent\n",
    "print('Déviation Standard de la feature size : ' + str(dvstd))\n",
    "min_val = size.mean() - 3 * dvstd\n",
    "print('valeur minimale : ' + str(min_val))\n",
    "max_val = size.mean() + 3 * dvstd\n",
    "print('valeur maximale : ' + str(max_val))\n",
    "outliers = size[size > max_val]\n",
    "outliers.count()\n"
   ]
  },
  {
   "cell_type": "code",
   "execution_count": null,
   "metadata": {},
   "outputs": [],
   "source": []
  },
  {
   "cell_type": "code",
   "execution_count": null,
   "metadata": {},
   "outputs": [],
   "source": []
  }
 ],
 "metadata": {
  "kernelspec": {
   "display_name": "Python 3",
   "language": "python",
   "name": "python3"
  },
  "language_info": {
   "codemirror_mode": {
    "name": "ipython",
    "version": 3
   },
   "file_extension": ".py",
   "mimetype": "text/x-python",
   "name": "python",
   "nbconvert_exporter": "python",
   "pygments_lexer": "ipython3",
   "version": "3.9.0"
  }
 },
 "nbformat": 4,
 "nbformat_minor": 4
}
