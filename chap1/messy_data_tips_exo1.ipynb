{
 "cells": [
  {
   "cell_type": "code",
   "execution_count": 37,
   "metadata": {},
   "outputs": [
    {
     "name": "stdout",
     "output_type": "stream",
     "text": [
      "Version Seaborn : 0.11.0\n",
      "Version Numpy : 1.19.4\n",
      "Version Matplotlib : 3.3.3\n",
      "Version Pandas : 1.1.4\n",
      "Nombre observations dont il manque une valeur pour la feature size  : 16\n",
      "Calcul de la moyenne des valeurs disponible pour la feature size : 3\n"
     ]
    }
   ],
   "source": [
    "import seaborn as sns\n",
    "import numpy as np\n",
    "import matplotlib as plt\n",
    "import pandas as pds\n",
    "print('Version Seaborn : ' + sns.__version__)\n",
    "print('Version Numpy : ' + np.__version__)\n",
    "print('Version Matplotlib : ' + plt.__version__)\n",
    "print('Version Pandas : ' + pds.__version__)\n",
    "tips = sns.load_dataset('tips') # Chargement des données tips\n",
    "size = tips[\"size\"] # Extraction de la feature size du dataset tips\n",
    "size.loc[:15] = np.nan # Conversion des 16 premières valeurs de size en valeurs manquantes (missing values)\n",
    "occurence = size.isnull().sum() # Calcul du nombre d'observations dont il manque une valeur pour la feature size\n",
    "print('Nombre observations dont il manque une valeur pour la feature size  : ' + str(occurence))\n",
    "meanSize = size.mean() # Calcul de la moyenne des valeurs disponible pour la feature size\n",
    "meanSize = round(meanSize)\n",
    "print('Calcul de la moyenne des valeurs disponible pour la feature size : ' + str(meanSize))\n"
   ]
  },
  {
   "cell_type": "code",
   "execution_count": null,
   "metadata": {},
   "outputs": [],
   "source": []
  },
  {
   "cell_type": "code",
   "execution_count": null,
   "metadata": {},
   "outputs": [],
   "source": []
  }
 ],
 "metadata": {
  "kernelspec": {
   "display_name": "Python 3",
   "language": "python",
   "name": "python3"
  },
  "language_info": {
   "codemirror_mode": {
    "name": "ipython",
    "version": 3
   },
   "file_extension": ".py",
   "mimetype": "text/x-python",
   "name": "python",
   "nbconvert_exporter": "python",
   "pygments_lexer": "ipython3",
   "version": "3.9.0"
  }
 },
 "nbformat": 4,
 "nbformat_minor": 4
}
